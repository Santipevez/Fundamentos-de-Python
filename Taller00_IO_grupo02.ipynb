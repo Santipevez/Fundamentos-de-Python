{
  "nbformat": 4,
  "nbformat_minor": 0,
  "metadata": {
    "colab": {
      "provenance": [],
      "toc_visible": true,
      "authorship_tag": "ABX9TyMk/LkViWh5RIA1rZZO3o7T",
      "include_colab_link": true
    },
    "kernelspec": {
      "name": "python3",
      "display_name": "Python 3"
    },
    "language_info": {
      "name": "python"
    }
  },
  "cells": [
    {
      "cell_type": "markdown",
      "metadata": {
        "id": "view-in-github",
        "colab_type": "text"
      },
      "source": [
        "<a href=\"https://colab.research.google.com/github/Santipevez/Fundamentos-de-Python/blob/main/Taller00_IO_grupo02.ipynb\" target=\"_parent\"><img src=\"https://colab.research.google.com/assets/colab-badge.svg\" alt=\"Open In Colab\"/></a>"
      ]
    },
    {
      "cell_type": "markdown",
      "source": [
        "#Ejercicios de Google Colab"
      ],
      "metadata": {
        "id": "a4Fy_tKKcPDH"
      }
    },
    {
      "cell_type": "markdown",
      "source": [
        "Ejercicios de Google Colab"
      ],
      "metadata": {
        "id": "O4nuWr27cqQe"
      }
    },
    {
      "cell_type": "code",
      "execution_count": 1,
      "metadata": {
        "colab": {
          "base_uri": "https://localhost:8080/"
        },
        "id": "mALhGg-JbnMi",
        "outputId": "b2c700d5-1dd1-4aea-9553-7acf09863d94"
      },
      "outputs": [
        {
          "output_type": "stream",
          "name": "stdout",
          "text": [
            "Hello World\n"
          ]
        }
      ],
      "source": [
        "#Programa de prueba\n",
        "print(\"Hello World\")"
      ]
    },
    {
      "cell_type": "markdown",
      "source": [
        "Segundo ejemplo"
      ],
      "metadata": {
        "id": "st21GQZXcvAa"
      }
    },
    {
      "cell_type": "code",
      "source": [
        "#\"Personalizar las casillas de codigo\"\n",
        "print(\"esto es una lista\")\n",
        "\n",
        "lista_0=[\"a\",\"b\",\"c\"]\n",
        "\n",
        "#Mostrar lista\n",
        "print(lista_0)\n",
        "\n",
        "#Crear un ciclo for\n",
        "for i in lista_0:\n",
        "  print(i)\n",
        "\n",
        "#Comentario muy largo...........................\n",
        "#............................................................................................\n",
        "#Escribir el codigo de una forma facil de leer\n"
      ],
      "metadata": {
        "colab": {
          "base_uri": "https://localhost:8080/"
        },
        "id": "RmUgE43Odec3",
        "outputId": "b1042589-29d1-462f-b98b-6237c05e17f6"
      },
      "execution_count": 3,
      "outputs": [
        {
          "output_type": "stream",
          "name": "stdout",
          "text": [
            "esto es una lista\n",
            "['a', 'b', 'c']\n",
            "a\n",
            "b\n",
            "c\n"
          ]
        }
      ]
    }
  ]
}